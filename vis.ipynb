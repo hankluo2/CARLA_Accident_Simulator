{
 "cells": [
  {
   "cell_type": "code",
   "execution_count": 1,
   "id": "b93690ec-5f83-4ab6-94ad-0b7002a54065",
   "metadata": {},
   "outputs": [],
   "source": [
    "\"\"\"\n",
    "Environment: Windows\n",
    "\"\"\"\n",
    "import hydra\n",
    "from pathlib import Path\n",
    "import json\n",
    "\n",
    "from datamaker import *\n",
    "from preprocess import *\n",
    "from visualize import box_plot"
   ]
  },
  {
   "cell_type": "code",
   "execution_count": 4,
   "id": "37746ee5-5832-4f7a-a300-82006cb2e261",
   "metadata": {},
   "outputs": [],
   "source": [
    "@hydra.main(config_path='./configure', config_name='carla')\n",
    "def main(cfg):\n",
    "    pri\n",
    "    box_plot(cfg)"
   ]
  },
  {
   "cell_type": "code",
   "execution_count": 5,
   "id": "5e6cafb7-fd25-40c6-bf19-61cf0b567bf6",
   "metadata": {},
   "outputs": [
    {
     "name": "stderr",
     "output_type": "stream",
     "text": [
      "usage: ipykernel_launcher.py [--help] [--hydra-help] [--version]\n",
      "                             [--cfg {job,hydra,all}] [--resolve]\n",
      "                             [--package PACKAGE] [--run] [--multirun]\n",
      "                             [--shell-completion] [--config-path CONFIG_PATH]\n",
      "                             [--config-name CONFIG_NAME]\n",
      "                             [--config-dir CONFIG_DIR]\n",
      "                             [--info [{all,config,defaults,defaults-tree,plugins,searchpath}]]\n",
      "                             [overrides [overrides ...]]\n",
      "ipykernel_launcher.py: error: unrecognized arguments: -f\n"
     ]
    },
    {
     "ename": "SystemExit",
     "evalue": "2",
     "output_type": "error",
     "traceback": [
      "An exception has occurred, use %tb to see the full traceback.\n",
      "\u001b[1;31mSystemExit\u001b[0m\u001b[1;31m:\u001b[0m 2\n"
     ]
    }
   ],
   "source": [
    "main()"
   ]
  },
  {
   "cell_type": "code",
   "execution_count": null,
   "id": "4fed6412-ac47-4891-851b-4b424ec362c1",
   "metadata": {},
   "outputs": [],
   "source": []
  }
 ],
 "metadata": {
  "kernelspec": {
   "display_name": "Python 3 (ipykernel)",
   "language": "python",
   "name": "python3"
  },
  "language_info": {
   "codemirror_mode": {
    "name": "ipython",
    "version": 3
   },
   "file_extension": ".py",
   "mimetype": "text/x-python",
   "name": "python",
   "nbconvert_exporter": "python",
   "pygments_lexer": "ipython3",
   "version": "3.7.11"
  }
 },
 "nbformat": 4,
 "nbformat_minor": 5
}
